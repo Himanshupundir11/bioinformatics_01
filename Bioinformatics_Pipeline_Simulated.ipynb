{
 "cells": [
  {
   "cell_type": "markdown",
   "id": "c3424cd3",
   "metadata": {},
   "source": [
    "# 🔬 Simulated Bioinformatics Pipeline\n",
    "\n",
    "This notebook simulates a complete gene expression analysis pipeline for a hypothetical disease model using randomly generated gene expression data.\n",
    "\n",
    "---"
   ]
  },
  {
   "cell_type": "code",
   "execution_count": null,
   "id": "3a7d232c",
   "metadata": {},
   "outputs": [],
   "source": [
    "import pandas as pd\n",
    "import numpy as np\n",
    "import seaborn as sns\n",
    "import matplotlib.pyplot as plt\n",
    "from sklearn.decomposition import PCA\n",
    "from sklearn.manifold import TSNE\n",
    "from scipy.stats import ttest_ind\n",
    "from sklearn.cluster import KMeans\n",
    "import warnings\n",
    "warnings.filterwarnings(\"ignore\")\n",
    "sns.set(style=\"whitegrid\")\n"
   ]
  },
  {
   "cell_type": "code",
   "execution_count": null,
   "id": "d73de2c9",
   "metadata": {},
   "outputs": [],
   "source": [
    "# Load simulated dataset\n",
    "df = pd.read_csv(\"simulated_gene_expression.csv\", index_col=0)\n",
    "df.head()\n"
   ]
  },
  {
   "cell_type": "code",
   "execution_count": null,
   "id": "f5b1eaa3",
   "metadata": {},
   "outputs": [],
   "source": [
    "# Sample groups\n",
    "control_cols = [col for col in df.columns if \"Control\" in col]\n",
    "disease_cols = [col for col in df.columns if \"Disease\" in col]\n",
    "print(f\"Control samples: {len(control_cols)}, Disease samples: {len(disease_cols)}\")\n"
   ]
  },
  {
   "cell_type": "code",
   "execution_count": null,
   "id": "e023f3d2",
   "metadata": {},
   "outputs": [],
   "source": [
    "# Perform t-tests for each gene\n",
    "p_values = []\n",
    "log_fc = []\n",
    "\n",
    "for gene in df.index:\n",
    "    control_vals = df.loc[gene, control_cols]\n",
    "    disease_vals = df.loc[gene, disease_cols]\n",
    "    t_stat, p_val = ttest_ind(control_vals, disease_vals)\n",
    "    p_values.append(p_val)\n",
    "    log_fc.append(np.log2(disease_vals.mean() / control_vals.mean()))\n",
    "\n",
    "# Create results dataframe\n",
    "results = pd.DataFrame({\n",
    "    \"Gene\": df.index,\n",
    "    \"log2_FC\": log_fc,\n",
    "    \"p_value\": p_values\n",
    "})\n",
    "results[\"significant\"] = results[\"p_value\"] < 0.05\n",
    "results.sort_values(\"p_value\", inplace=True)\n",
    "results.head()\n"
   ]
  },
  {
   "cell_type": "code",
   "execution_count": null,
   "id": "330aeb11",
   "metadata": {},
   "outputs": [],
   "source": [
    "plt.figure(figsize=(10,6))\n",
    "sns.scatterplot(data=results, x=\"log2_FC\", y=-np.log10(results[\"p_value\"]), hue=\"significant\", palette={True: \"red\", False: \"gray\"})\n",
    "plt.title(\"Volcano Plot\")\n",
    "plt.xlabel(\"Log2 Fold Change\")\n",
    "plt.ylabel(\"-Log10 p-value\")\n",
    "plt.axhline(-np.log10(0.05), linestyle='--', color='blue')\n",
    "plt.show()\n"
   ]
  },
  {
   "cell_type": "code",
   "execution_count": null,
   "id": "22c4962f",
   "metadata": {},
   "outputs": [],
   "source": [
    "# PCA\n",
    "pca = PCA(n_components=2)\n",
    "pca_data = pca.fit_transform(df.T)\n",
    "pca_df = pd.DataFrame(pca_data, columns=[\"PC1\", \"PC2\"])\n",
    "pca_df[\"group\"] = [\"Control\"] * len(control_cols) + [\"Disease\"] * len(disease_cols)\n",
    "\n",
    "sns.scatterplot(data=pca_df, x=\"PC1\", y=\"PC2\", hue=\"group\")\n",
    "plt.title(\"PCA of Samples\")\n",
    "plt.show()\n"
   ]
  },
  {
   "cell_type": "code",
   "execution_count": null,
   "id": "34402a30",
   "metadata": {},
   "outputs": [],
   "source": [
    "tsne = TSNE(n_components=2, perplexity=5, random_state=42)\n",
    "tsne_data = tsne.fit_transform(df.T)\n",
    "tsne_df = pd.DataFrame(tsne_data, columns=[\"Dim1\", \"Dim2\"])\n",
    "tsne_df[\"group\"] = [\"Control\"] * len(control_cols) + [\"Disease\"] * len(disease_cols)\n",
    "\n",
    "sns.scatterplot(data=tsne_df, x=\"Dim1\", y=\"Dim2\", hue=\"group\")\n",
    "plt.title(\"t-SNE of Samples\")\n",
    "plt.show()\n"
   ]
  },
  {
   "cell_type": "code",
   "execution_count": null,
   "id": "b79b9c83",
   "metadata": {},
   "outputs": [],
   "source": [
    "# Top differentially expressed genes\n",
    "top_genes = results.sort_values(\"p_value\").head(30)[\"Gene\"]\n",
    "sns.clustermap(df.loc[top_genes], cmap=\"vlag\", col_cluster=True, z_score=0, figsize=(12, 10))\n",
    "plt.title(\"Heatmap of Top Differentially Expressed Genes\")\n",
    "plt.show()\n"
   ]
  },
  {
   "cell_type": "code",
   "execution_count": null,
   "id": "467acb2a",
   "metadata": {},
   "outputs": [],
   "source": [
    "# Mock pathway annotation\n",
    "pathways = [\"Apoptosis\", \"Cell Cycle\", \"Immune Response\", \"Signal Transduction\", \"Metabolism\"]\n",
    "np.random.seed(0)\n",
    "results[\"Pathway\"] = np.random.choice(pathways, size=results.shape[0])\n",
    "\n",
    "# Visualize enriched pathways among significant genes\n",
    "pathway_counts = results[results[\"significant\"]][\"Pathway\"].value_counts()\n",
    "\n",
    "sns.barplot(x=pathway_counts.index, y=pathway_counts.values)\n",
    "plt.title(\"Enriched Pathways (Simulated)\")\n",
    "plt.ylabel(\"Count of Significant Genes\")\n",
    "plt.xticks(rotation=45)\n",
    "plt.show()\n"
   ]
  },
  {
   "cell_type": "code",
   "execution_count": null,
   "id": "c8783f41",
   "metadata": {},
   "outputs": [],
   "source": [
    "results.to_csv(\"results_differential_expression.csv\", index=False)\n",
    "print(\"Results saved to results_differential_expression.csv\")\n"
   ]
  }
 ],
 "metadata": {},
 "nbformat": 4,
 "nbformat_minor": 5
}
